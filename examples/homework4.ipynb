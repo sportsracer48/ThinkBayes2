{
 "cells": [
  {
   "cell_type": "markdown",
   "metadata": {},
   "source": [
    "# Think Bayes\n",
    "Henry Rachootin\n"
   ]
  },
  {
   "cell_type": "code",
   "execution_count": 1,
   "metadata": {},
   "outputs": [],
   "source": [
    "# Configure Jupyter so figures appear in the notebook\n",
    "%matplotlib inline\n",
    "\n",
    "# Configure Jupyter to display the assigned value after an assignment\n",
    "%config InteractiveShell.ast_node_interactivity='last_expr_or_assign'\n",
    "\n",
    "# import classes from thinkbayes2\n",
    "import thinkbayes2 as tb\n",
    "from thinkbayes2 import Suite, Joint, Pmf\n",
    "\n",
    "import thinkplot as tp\n",
    "\n",
    "import numpy as np\n",
    "\n",
    "from scipy.stats import norm,binom"
   ]
  },
  {
   "cell_type": "markdown",
   "metadata": {},
   "source": [
    "# The Height Problem II"
   ]
  },
  {
   "cell_type": "code",
   "execution_count": 2,
   "metadata": {},
   "outputs": [
    {
     "name": "stdout",
     "output_type": "stream",
     "text": [
      "Their height is about 182 cm\n",
      "It's between 176 and 190 (90% confidence)\n"
     ]
    },
    {
     "data": {
      "image/png": "[encoded data removed]",
      "text/plain": [
       "<Figure size 432x288 with 1 Axes>"
      ]
     },
     "metadata": {},
     "output_type": "display_data"
    }
   ],
   "source": [
    "dist_height = dict(male=norm(178, 7.7),\n",
    "                   female=norm(163, 7.3))\n",
    "hs = np.linspace(130, 210);\n",
    "ps = dist_height['male'].pdf(hs);\n",
    "male = Pmf(dict(zip(hs, ps)));\n",
    "ps = dist_height['female'].pdf(hs);\n",
    "female = Pmf(dict(zip(hs, ps)));\n",
    "\n",
    "h=tb.MakeMixture(Pmf([male,female]));\n",
    "\n",
    "class Taller(Suite, Joint):\n",
    "    def Likelihood(self, data, hypo):\n",
    "        ha,hb=hypo\n",
    "        if data=='A':\n",
    "            return 1 if ha>hb else 0\n",
    "        elif data=='B':\n",
    "            return 1 if hb>ha else 0\n",
    "\n",
    "prior = Taller(tb.MakeJoint(h,h));\n",
    "prior.Update('B');\n",
    "\n",
    "for i in range(9):\n",
    "    prior = Taller(tb.MakeJoint(prior.Marginal(0),h))\n",
    "    prior.Update('A');\n",
    "\n",
    "tp.Pdf(prior.Marginal(0))\n",
    "\n",
    "print(\"Their height is about %.0f cm\"%prior.Marginal(0).Mean())\n",
    "print(\"It's between %.0f and %.0f (90%% confidence)\"%prior.Marginal(0).CredibleInterval())"
   ]
  },
  {
   "cell_type": "code",
   "execution_count": 3,
   "metadata": {},
   "outputs": [
    {
     "name": "stdout",
     "output_type": "stream",
     "text": [
      "There is a 93.5 chance that they are male\n"
     ]
    }
   ],
   "source": [
    "class Sex(Suite):\n",
    "    def Likelihood(self, data, hypo):\n",
    "        return dist_height[hypo].pdf(data);\n",
    "\n",
    "sexes = [(Sex(['male','female']), h, prior.Marginal(0)[h]) for h in hs];\n",
    "for sex,h,p in sexes:\n",
    "    sex.Update(h)\n",
    "\n",
    "metaPmf = Pmf({pmf:p for pmf,_,p in sexes});\n",
    "\n",
    "sex = tb.MakeMixture(metaPmf);\n",
    "\n",
    "print(\"There is a %.1f chance that they are male\"%(sex['male']*100))"
   ]
  },
  {
   "cell_type": "markdown",
   "metadata": {},
   "source": [
    "# The Lincon Index Problem"
   ]
  },
  {
   "cell_type": "code",
   "execution_count": 5,
   "metadata": {},
   "outputs": [
    {
     "data": {
      "image/png": "[encoded data removed]",
      "text/plain": [
       "<Figure size 432x288 with 1 Axes>"
      ]
     },
     "metadata": {},
     "output_type": "display_data"
    }
   ],
   "source": [
    "class BugHunt(Suite, Joint):\n",
    "    def Likelihood(self, data, hypo):\n",
    "        p1,p2,n = hypo\n",
    "        k1,k2,c = data\n",
    "        \n",
    "        if k1>n or k2>n:\n",
    "            return 0\n",
    "        \n",
    "        l1 = binom(n,   p1).pmf(k1)\n",
    "        l2 = binom(n-k1,p2).pmf(k2-c)\n",
    "        l3 = binom(k1,  p2).pmf(c)\n",
    "        \n",
    "        return l1*l2*l3\n",
    "    \n",
    "ps = np.linspace(0,1,20)\n",
    "\n",
    "k1=20;\n",
    "k2=15;\n",
    "c=3;\n",
    "minBugs = k1+k2-c;\n",
    "\n",
    "ns = range(minBugs,250,10)\n",
    "prior = [(p1,p2,n) for p1 in ps for p2 in ps for n in ns];\n",
    "\n",
    "#print(prior)\n",
    "\n",
    "bugs = BugHunt(prior);\n",
    "bugs.Update((20,15,3));\n",
    "\n",
    "tp.Pmf(bugs.Marginal(2))\n"
   ]
  },
  {
   "cell_type": "code",
   "execution_count": 18,
   "metadata": {},
   "outputs": [
    {
     "name": "stdout",
     "output_type": "stream",
     "text": [
      "I estimate the mean to be 100, \n",
      "and the Lincoln index agrees it should be 100.\n",
      "0.2347888463387506 0.17882134535064498\n"
     ]
    },
    {
     "data": {
      "image/png": "[encoded data removed]",
      "text/plain": [
       "<Figure size 432x288 with 1 Axes>"
      ]
     },
     "metadata": {},
     "output_type": "display_data"
    }
   ],
   "source": [
    "print(\"I estimate the mean to be %.0f, \\nand the Lincoln index agrees it should be %.0f.\"%(bugs.Marginal(2).Mean(),k1*k2/c))\n",
    "\n",
    "tp.Pmf(bugs.Marginal(0))\n",
    "tp.Pmf(bugs.Marginal(1))\n",
    "tp.decorate(title=\"Bug finding probability of testers\")\n",
    "print(bugs.Marginal(0).Mean(),bugs.Marginal(1).Mean())"
   ]
  },
  {
   "cell_type": "markdown",
   "metadata": {},
   "source": [
    "However, I don't like that chunky graph. I had to use big chunks to get it to run on my laptop. I'm gonna do this in mathematica with MCMC.\n",
    "\n",
    "![](https://i.imgur.com/i3uUN0R.png)\n",
    "\n",
    "That's better. This gives the mean for the number of bugs at 112, and the mean for the testers' bug finding probabilities at 22.6% and 12.3% respectively. I used the Metropolis-Hasting's algorithm. Here's the source code:\n",
    "\n",
    "    l[n_, p_, k_] := PDF[BinomialDistribution[n, p], k]\n",
    "    k1 = 20;\n",
    "    k2 = 15;\n",
    "    c = 3;\n",
    "    MinN = k1 + k2 - c;\n",
    "    f[p1_, p2_, n_] := l[n, p1, k1]*l[n - k1, p2, k2 - c]*l[k1, p2, c]\n",
    "    un = UniformDistribution[{0, 1}];\n",
    "    normP = NormalDistribution[0, .05];\n",
    "    normN = NormalDistribution[0, 5];\n",
    "    Clamp[p_] := Min[Max[p, 0], 1]\n",
    "    ClampN[n_] := Max[Round[n], MinN]\n",
    "    step[{p1_, p2_, n_}] := With[\n",
    "      {\n",
    "       u = RandomVariate[un],\n",
    "       p1p = Clamp[RandomVariate[normP] + p1],\n",
    "       p2p = Clamp[RandomVariate[normP] + p2],\n",
    "       np = ClampN[RandomVariate[normN] + n]\n",
    "       },\n",
    "      If[u <= f[p1p, p2p, np]/f[p1, p2, n], {p1p, p2p, np}, {p1, p2, n}]\n",
    "      ]\n",
    "    samples = NestList[step, {.23, .17, 100}, 1000000];\n",
    "    {p1M, p2M, nM} = Transpose@samples;"
   ]
  },
  {
   "cell_type": "markdown",
   "metadata": {},
   "source": [
    "# The Skeet Problem"
   ]
  },
  {
   "cell_type": "code",
   "execution_count": 37,
   "metadata": {},
   "outputs": [
    {
     "name": "stdout",
     "output_type": "stream",
     "text": [
      "There is a 58.3% chance that Rhode is better. That's a Bayes factor of 1.17.\n"
     ]
    },
    {
     "data": {
      "image/png": "[encoded data removed]",
      "text/plain": [
       "<Figure size 432x288 with 1 Axes>"
      ]
     },
     "metadata": {},
     "output_type": "display_data"
    }
   ],
   "source": [
    "class Shooter(Suite):\n",
    "    def Likelihood(self, data, hypo):\n",
    "        p     = hypo;\n",
    "        n,k   = data;\n",
    "        return binom(n,p).pmf(k);\n",
    "    \n",
    "ps = np.linspace(0,1,100);\n",
    "R = Shooter(ps);\n",
    "M = Shooter(ps);\n",
    "R.Update((25+2+2+2+2,15+1+2+2+2));\n",
    "M.Update((25+2+2+2+2,15+1+2+2+1));\n",
    "\n",
    "tp.Pdf(R)\n",
    "tp.Pdf(M)\n",
    "\n",
    "joint = tb.MakeJoint(R,M);\n",
    "pRBetter = 0;\n",
    "for (pR,pM),p in joint.Items():\n",
    "    if pR>pM:\n",
    "        pRBetter += p;\n",
    "print(\"There is a %.1f%% chance that Rhode is better. That's a Bayes factor of %.2f.\"%(pRBetter*100,pRBetter/.5))\n",
    "\n",
    "\n",
    "win = 0;\n",
    "tie = 0;\n",
    "for (pR,pM),p in joint.Items():\n",
    "    RPMF=tb.MakeBinomialPmf(25,pR)\n",
    "    MPMF=tb.MakeBinomialPmf(25,pM)\n",
    "    for nR,pnR in RPMF.Items():\n",
    "        for nM, pnM in MPMF.Items():\n",
    "            if(nR>nM):\n",
    "                win += p*pnR*pnM\n",
    "            elif(nR==nM):\n",
    "                tie += p*pnR*pnM"
   ]
  },
  {
   "cell_type": "code",
   "execution_count": 42,
   "metadata": {},
   "outputs": [
    {
     "name": "stdout",
     "output_type": "stream",
     "text": [
      "There is a 52.0% chance that Rhode would win a rematch without a tiebreaker, and a 8.9% chance that they would tie.\n"
     ]
    }
   ],
   "source": [
    "print(\"There is a %.1f%% chance that Rhode would win a rematch without a tiebreaker, and a %.1f%% chance that they would tie.\"%(win*100,tie*100))"
   ]
  },
  {
   "cell_type": "code",
   "execution_count": 46,
   "metadata": {},
   "outputs": [
    {
     "name": "stdout",
     "output_type": "stream",
     "text": [
      "In each round of sudden death there is a 32.5% chance that Rhode would win, \n",
      "and a 39.3% chance that they would tie again.\n"
     ]
    }
   ],
   "source": [
    "wint = 0;\n",
    "tiet = 0;\n",
    "for (pR,pM),p in joint.Items():\n",
    "    RPMF=tb.MakeBinomialPmf(2,pR)\n",
    "    MPMF=tb.MakeBinomialPmf(2,pM)\n",
    "    for nR,pnR in RPMF.Items():\n",
    "        for nM, pnM in MPMF.Items():\n",
    "            if(nR>nM):\n",
    "                wint += p*pnR*pnM\n",
    "            elif(nR==nM):\n",
    "                tiet += p*pnR*pnM\n",
    "                \n",
    "print(\"In each round of sudden death there is a %.1f%% chance that Rhode would win, \\nand a %.1f%% chance that they would tie again.\"%(wint*100,tiet*100))"
   ]
  },
  {
   "cell_type": "markdown",
   "metadata": {},
   "source": [
    "To find the total probability of Rhode winning a rematch, we need to sum an infinite series. Again, it was best to switch to mathematica, so here's my code to sum that infinite series:\n",
    "\n",
    "     {w, t, wt, tt} = {0.5202329045549506, 0.08924107056052635, .3254421768707451, 0.3926984126984103}\n",
    "     w + t*Sum[wt*tt^n, {n, 0, Infinity}]\n",
    "Which gives Rhode a total of a 56.8% chance of winning after an arbitrary number of ties. As a reality check I also calculated the probability of Meng winning after arbitrary ties with\n",
    "\n",
    "     (1 - w - t) + t*Sum[(1 - wt - tt)*tt^n, {n, 0, Infinity}]\n",
    "\n",
    "And she gets a 43.2% chance of winning. Those add up to one, which is good! They have no chance of tying forever."
   ]
  },
  {
   "cell_type": "markdown",
   "metadata": {},
   "source": [
    "# The Social Desirability Problem"
   ]
  },
  {
   "cell_type": "code",
   "execution_count": 53,
   "metadata": {},
   "outputs": [
    {
     "name": "stdout",
     "output_type": "stream",
     "text": [
      "There are between 48 and 69 athiests surveyed (90% confidence).\n",
      "The mean is 59.0\n"
     ]
    },
    {
     "data": {
      "image/png": "[encoded data removed]",
      "text/plain": [
       "<Figure size 432x288 with 1 Axes>"
      ]
     },
     "metadata": {},
     "output_type": "display_data"
    }
   ],
   "source": [
    "class Athiests(Suite):\n",
    "    def Likelihood(self, data, hypo):\n",
    "        nAthiests=hypo\n",
    "        nYes=data\n",
    "        if(nAthiests>nYes):\n",
    "            return 0\n",
    "        else:\n",
    "            return binom(100-nAthiests,.5).pmf(nYes-nAthiests)\n",
    "        \n",
    "s=Athiests(range(101));\n",
    "s.Update(80);\n",
    "tp.Pdf(s)\n",
    "print(\"There are between %d and %d athiests surveyed (90%% confidence).\"%s.CredibleInterval())\n",
    "print(\"The mean is %.1f\"%s.Mean())"
   ]
  },
  {
   "cell_type": "markdown",
   "metadata": {},
   "source": [
    "# The Sleeping Beauty Problem\n",
    "\n",
    "I've gotta go with 1/2 on this one. The only datum that Sleeping Beauty has is that she was awoken, which she already know would happen. Hence the posteriors are the same as the priors, where the coin has a 50% chance landing heads. \n",
    "\n",
    "I don't think that the 1/3 argument on wikipedia is even credible, since it claims that P(Tails | Monday) = P(Monday | Tails), but this assertion fails to account for the prior probabilities. I demonstrate this below with a Bayseian update, which shows that P(Tails | Monday)=1/5 and P(Monday | Tails)=1/3. The wikipedia article cavalierly switches between P(A and B) and P(A|B) but those are not the same. In fact, that's the point of conditional probabilty.\n",
    "\n",
    "Note that the likelihoods for P(Monday|Tails) and P(Tails|Monday) are the same, but they still lead to different posteriors."
   ]
  },
  {
   "cell_type": "code",
   "execution_count": 93,
   "metadata": {},
   "outputs": [
    {
     "name": "stdout",
     "output_type": "stream",
     "text": [
      "Probability that the coin landed tails given that it's Monday is: 20.00%\n"
     ]
    },
    {
     "data": {
      "image/png": "[encoded data removed]",
      "text/plain": [
       "<Figure size 432x288 with 1 Axes>"
      ]
     },
     "metadata": {},
     "output_type": "display_data"
    }
   ],
   "source": [
    "heads = 'heads';\n",
    "tails = 'tails';\n",
    "tuesday = 'tuesday';\n",
    "monday = 'monday';\n",
    "\n",
    "class Coin(Suite, Joint):\n",
    "    def Likelihood(self, data, hypo):\n",
    "        coin,day = hypo\n",
    "        if(data == monday):\n",
    "            if(day == tuesday):\n",
    "                return 0#no chance of this\n",
    "            if(coin == heads):\n",
    "                return 1 #the probability of it being monday with heads is 1\n",
    "            if(coin == tails):\n",
    "                return 0.5#whereas when waking up with tails it could have been tuesday\n",
    "        if(data == tails):\n",
    "            if(coin == heads):\n",
    "                return 0#no chance of this\n",
    "            if(day == monday):\n",
    "                return 0.5#could have been heads or tails\n",
    "            if(day == tuesday):\n",
    "                return 1#can only be tails on tuesday\n",
    "        else:\n",
    "            return 1\n",
    "            \n",
    "        \n",
    "\n",
    "#Here's how I'm sturcturing my priors. First there is a coin flip, then I'm modeling the lack of information\n",
    "#about what day it is (in the tails case) as it being equally probable that Sleeping Beauty is awoken on Monday\n",
    "#or Tuesday.\n",
    "\n",
    "#             coin flip\n",
    "#                 |\n",
    "#             ----------------\n",
    "#             |              |\n",
    "#           heads(.5)      tails(.5)\n",
    "#             |               |\n",
    "#           Monday(.5)    --------------\n",
    "#                         |            |\n",
    "#                     Monday(.25)   Tuesday(.25)\n",
    "\n",
    "coin = Coin({(heads,tuesday):0 \n",
    "             ,(heads,monday):.5, \n",
    "             (tails,tuesday):.25,\n",
    "             (tails,monday):.25\n",
    "            })\n",
    "coin.Update(monday)\n",
    "tp.hist(coin.Marginal(0))\n",
    "print(\"Probability that the coin landed tails given that it's Monday is: %.2f%%\"%(100*coin.Marginal(0)[tails]))"
   ]
  },
  {
   "cell_type": "code",
   "execution_count": 94,
   "metadata": {},
   "outputs": [
    {
     "name": "stdout",
     "output_type": "stream",
     "text": [
      "Probability that it's Monday given that the coin landed tails is: 33.33%\n"
     ]
    },
    {
     "data": {
      "image/png": "[encoded data removed]",
      "text/plain": [
       "<Figure size 432x288 with 1 Axes>"
      ]
     },
     "metadata": {},
     "output_type": "display_data"
    }
   ],
   "source": [
    "coin = Coin({(heads,tuesday):0,(heads,monday):0.5,(tails,tuesday):.25,(tails,monday):.25})\n",
    "coin.Update(tails)\n",
    "tp.hist(coin.Marginal(1))\n",
    "print(\"Probability that it's Monday given that the coin landed tails is: %.2f%%\"%(100*coin.Marginal(1)[monday]))"
   ]
  },
  {
   "cell_type": "markdown",
   "metadata": {},
   "source": [
    "# Project Idea\n",
    "\n",
    "I want to do a project on belief propagation in Bayesian networks. Here's a link to a relevant wikipedia article:\n",
    "https://en.wikipedia.org/wiki/Belief_propagation\n",
    "\n",
    "This may look a bit more like a complexity project then a CompBayes project, but oh well, CompBayes wasn't offered this semester."
   ]
  }
 ],
 "metadata": {
  "kernelspec": {
   "display_name": "Python 3",
   "language": "python",
   "name": "python3"
  },
  "language_info": {
   "codemirror_mode": {
    "name": "ipython",
    "version": 3
   },
   "file_extension": ".py",
   "mimetype": "text/x-python",
   "name": "python",
   "nbconvert_exporter": "python",
   "pygments_lexer": "ipython3",
   "version": "3.6.5"
  }
 },
 "nbformat": 4,
 "nbformat_minor": 1
}
