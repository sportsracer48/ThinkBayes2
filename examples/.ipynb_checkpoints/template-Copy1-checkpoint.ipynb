{
 "cells": [
  {
   "cell_type": "markdown",
   "metadata": {},
   "source": [
    "# Think Bayes\n",
    "\n",
    "This notebook presents example code and exercise solutions for Think Bayes.\n",
    "\n",
    "Copyright 2016 Allen B. Downey\n",
    "\n",
    "MIT License: https://opensource.org/licenses/MIT"
   ]
  },
  {
   "cell_type": "code",
   "execution_count": 26,
   "metadata": {},
   "outputs": [],
   "source": [
    "# Configure Jupyter so figures appear in the notebook\n",
    "%matplotlib inline\n",
    "\n",
    "# Configure Jupyter to display the assigned value after an assignment\n",
    "%config InteractiveShell.ast_node_interactivity='last_expr_or_assign'\n",
    "\n",
    "# import classes from thinkbayes2\n",
    "from thinkbayes2 import Pmf, Suite, Joint, MakePoissonPmf, MakeNormalPmf, MakeMixture, EvalWeibullCdf, EvalWeibullPdf, MakeBinomialPmf\n",
    "\n",
    "from scipy.stats import lognorm\n",
    "\n",
    "import numpy as np\n",
    "\n",
    "import thinkplot\n",
    "\n",
    "import itertools\n",
    "\n",
    "from math import exp,sqrt"
   ]
  },
  {
   "cell_type": "code",
   "execution_count": 12,
   "metadata": {},
   "outputs": [],
   "source": [
    "class Weight(Suite, Joint):\n",
    "    def Likelihood(self, data, hypo):\n",
    "        mu,sigma = hypo\n",
    "        return lognorm.pdf(x,sigma,scale=exp(mu))"
   ]
  },
  {
   "cell_type": "code",
   "execution_count": 11,
   "metadata": {},
   "outputs": [
    {
     "data": {
      "text/plain": [
       "0.24197072451914337"
      ]
     },
     "execution_count": 11,
     "metadata": {},
     "output_type": "execute_result"
    }
   ],
   "source": [
    "lognorm.pdf(1,1,scale=exp(1))"
   ]
  },
  {
   "cell_type": "code",
   "execution_count": 33,
   "metadata": {},
   "outputs": [
    {
     "name": "stdout",
     "output_type": "stream",
     "text": [
      "0.711323336619144\n"
     ]
    }
   ],
   "source": [
    "class LightBulb(Suite,Joint):\n",
    "    def Likelihood(self,data,hypo):\n",
    "        lam,k = hypo\n",
    "        return EvalWeibullPdf(data,lam,k)\n",
    "    \n",
    "suite = LightBulb(itertools.product(np.linspace(.1,1,10),np.linspace(.1,1,10)));\n",
    "suite.Update(.75);\n",
    "suite.Update(1);\n",
    "suite.Update(2);\n",
    "\n",
    "\n",
    "\n",
    "x=0\n",
    "for hypo,p in suite.Items():\n",
    "    lam,k = hypo\n",
    "    x += p*EvalWeibullCdf(1,lam,k)\n",
    "    \n",
    "print(x)\n",
    "\n"
   ]
  },
  {
   "cell_type": "code",
   "execution_count": 21,
   "metadata": {},
   "outputs": [],
   "source": [
    "%psource MakeBinomialPmf"
   ]
  }
 ],
 "metadata": {
  "kernelspec": {
   "display_name": "Python 3",
   "language": "python",
   "name": "python3"
  },
  "language_info": {
   "codemirror_mode": {
    "name": "ipython",
    "version": 3
   },
   "file_extension": ".py",
   "mimetype": "text/x-python",
   "name": "python",
   "nbconvert_exporter": "python",
   "pygments_lexer": "ipython3",
   "version": "3.6.5"
  }
 },
 "nbformat": 4,
 "nbformat_minor": 1
}
