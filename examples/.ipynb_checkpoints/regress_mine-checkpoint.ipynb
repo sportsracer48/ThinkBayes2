{
 "cells": [
  {
   "cell_type": "markdown",
   "metadata": {},
   "source": [
    "# Think Bayes\n",
    "\n",
    "Copyright 2018 Allen B. Downey\n",
    "\n",
    "MIT License: https://opensource.org/licenses/MIT"
   ]
  },
  {
   "cell_type": "code",
   "execution_count": 3,
   "metadata": {},
   "outputs": [
    {
     "name": "stderr",
     "output_type": "stream",
     "text": [
      "WARNING (theano.tensor.blas): Using NumPy C-API based implementation for BLAS functions.\n",
      "/home/henry/miniconda3/envs/ThinkBayse2/lib/python3.6/site-packages/h5py/__init__.py:36: FutureWarning: Conversion of the second argument of issubdtype from `float` to `np.floating` is deprecated. In future, it will be treated as `np.float64 == np.dtype(float).type`.\n",
      "  from ._conv import register_converters as _register_converters\n"
     ]
    }
   ],
   "source": [
    "# Configure Jupyter so figures appear in the notebook\n",
    "%matplotlib inline\n",
    "\n",
    "# Configure Jupyter to display the assigned value after an assignment\n",
    "%config InteractiveShell.ast_node_interactivity='last_expr_or_assign'\n",
    "\n",
    "import numpy as np\n",
    "import pandas as pd\n",
    "\n",
    "from scipy.stats import poisson, norm\n",
    "\n",
    "# import classes from thinkbayes2\n",
    "from thinkbayes2 import Pmf, Cdf, Suite, Joint\n",
    "\n",
    "import thinkbayes2\n",
    "import thinkplot\n",
    "\n",
    "import pymc3 as pm"
   ]
  },
  {
   "cell_type": "code",
   "execution_count": 10,
   "metadata": {},
   "outputs": [],
   "source": [
    "data=np.array([[42.7, 40.4, 16.8, 0.3, 0.3, 0.3], \n",
    "      [45.0, 42.6, 12.5, 0.3, 0.4, 0.3], \n",
    "      [73.2, 13.8, 13.1, 0.4, 0.3, 0.3], \n",
    "      [62.2, 27.0, 10.8, 0.3, 0.3, 0.3], \n",
    "      [54.2, 35.7, 10.2, 0.4, 0.4, 0.3], \n",
    "      [58.5, 33.9, 7.6, 0.4,0.4, 0.4], \n",
    "      [62.3, 33.7, 4.0, 0.3, 0.3, 0.3]]);"
   ]
  },
  {
   "cell_type": "code",
   "execution_count": 19,
   "metadata": {},
   "outputs": [
    {
     "name": "stdout",
     "output_type": "stream",
     "text": [
      "[0.49558835 0.34398906 0.16042258]\n"
     ]
    }
   ],
   "source": [
    "Ba = data[:,0];\n",
    "Cu = data[:,1];\n",
    "Y  = data[:,2];\n",
    "tauBa = data[:,3];\n",
    "tauCu = data[:,4];\n",
    "tauY  = data[:,5];\n",
    "\n",
    "mBa = 137.327;\n",
    "mCu = 63.546;\n",
    "mY  = 88.90585;\n",
    "\n",
    "expect = np.array([2*mBa,3*mCu,mY])/sum([mY,2*mBa,3*mCu])\n",
    "\n",
    "model = pm.Model()\n",
    "\n",
    "\n",
    "with model:\n",
    "    muBa = pm.Uniform(\"muBa\",lower=0,upper=100);\n",
    "    muCu = pm.Uniform(\"muCu\",lower=0,upper=100);\n",
    "    muY  = pm.Uniform(\"muY\" ,lower=0,upper=100);\n",
    "    sigmaBa = pm.HalfNormal(\"sigmaBa\",sigma=3);\n",
    "    sigmaCu = pm.HalfNormal(\"sigmaCu\",sigma=3);\n",
    "    sigmaY  = pm.HalfNormal(\"sigmaYa\",sigma=3);\n",
    "    \n",
    "    percentBa = pm.Normal(\"\")\n",
    "    \n",
    "print(expect)"
   ]
  }
 ],
 "metadata": {
  "kernelspec": {
   "display_name": "Python 3",
   "language": "python",
   "name": "python3"
  },
  "language_info": {
   "codemirror_mode": {
    "name": "ipython",
    "version": 3
   },
   "file_extension": ".py",
   "mimetype": "text/x-python",
   "name": "python",
   "nbconvert_exporter": "python",
   "pygments_lexer": "ipython3",
   "version": "3.6.5"
  }
 },
 "nbformat": 4,
 "nbformat_minor": 1
}
