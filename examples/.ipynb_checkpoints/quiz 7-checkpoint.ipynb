{
 "cells": [
  {
   "cell_type": "markdown",
   "metadata": {},
   "source": [
    "# Think Bayes\n",
    "\n",
    "This notebook presents example code and exercise solutions for Think Bayes.\n",
    "\n",
    "Copyright 2016 Allen B. Downey\n",
    "\n",
    "MIT License: https://opensource.org/licenses/MIT"
   ]
  },
  {
   "cell_type": "code",
   "execution_count": 1,
   "metadata": {},
   "outputs": [],
   "source": [
    "# Configure Jupyter so figures appear in the notebook\n",
    "%matplotlib inline\n",
    "\n",
    "# Configure Jupyter to display the assigned value after an assignment\n",
    "%config InteractiveShell.ast_node_interactivity='last_expr_or_assign'\n",
    "\n",
    "# import classes from thinkbayes2\n",
    "from thinkbayes2 import Pmf, Suite, Joint, MakePoissonPmf, MakeNormalPmf, MakeMixture, MakeJoint\n",
    "\n",
    "import numpy as np\n",
    "\n",
    "import thinkplot\n",
    "\n",
    "from scipy.special import gamma"
   ]
  },
  {
   "cell_type": "markdown",
   "metadata": {},
   "source": [
    "# 1"
   ]
  },
  {
   "cell_type": "code",
   "execution_count": 2,
   "metadata": {},
   "outputs": [],
   "source": [
    "def pdf(x,k,theta):\n",
    "    return 1/(gamma(k)*(theta**k)) * (x**(k-1)) * np.exp(-x/theta)\n",
    "\n",
    "pdf(2,3,2);"
   ]
  },
  {
   "cell_type": "markdown",
   "metadata": {},
   "source": [
    " # 2"
   ]
  },
  {
   "cell_type": "code",
   "execution_count": 3,
   "metadata": {},
   "outputs": [
    {
     "name": "stdout",
     "output_type": "stream",
     "text": [
      "Prior mean for k 0.40\n",
      "Prior mean for theta 3.20\n",
      "Posterior mean for k 0.64\n",
      "Posterior mean for theta 2.49\n"
     ]
    }
   ],
   "source": [
    "kPrior = MakeNormalPmf(0,0.5,3);\n",
    "thetaPrior = MakeNormalPmf(0,4,3);\n",
    "kPrior = Pmf({k:v for k,v in kPrior.Items() if k>0});\n",
    "thetaPrior = Pmf({k:v for k,v in thetaPrior.Items() if k>0});\n",
    "\n",
    "prior = MakeJoint(kPrior,thetaPrior);\n",
    "\n",
    "class rain(Suite,Joint):\n",
    "    def Likelihood(self,data,hypo):\n",
    "        k,theta = hypo\n",
    "        data = np.array(data)\n",
    "        return np.product(pdf(data,k,theta))\n",
    "    \n",
    "suite = rain(prior);\n",
    "suite.Update([0.78,0.87,0.64]);\n",
    "\n",
    "print(\"Prior mean for k %.2f\"%kPrior.Mean())\n",
    "print(\"Prior mean for theta %.2f\"%thetaPrior.Mean())\n",
    "\n",
    "print(\"Posterior mean for k %.2f\"%suite.Marginal(0).Mean())\n",
    "print(\"Posterior mean for theta %.2f\"%suite.Marginal(1).Mean())"
   ]
  },
  {
   "cell_type": "markdown",
   "metadata": {},
   "source": [
    "# 3"
   ]
  },
  {
   "cell_type": "code",
   "execution_count": 6,
   "metadata": {},
   "outputs": [
    {
     "data": {
      "image/png": "[encoded data removed]",
      "text/plain": [
       "<Figure size 432x288 with 1 Axes>"
      ]
     },
     "metadata": {},
     "output_type": "display_data"
    }
   ],
   "source": [
    "mixture = Pmf();\n",
    "vals = np.linspace(0,3,200);\n",
    "for (k,theta),p in suite.Items():\n",
    "    partialPmf = Pmf({v:pdf(v,k,theta) for v in vals[1:]})\n",
    "    mixture[partialPmf]=p\n",
    "    \n",
    "mixture = MakeMixture(mixture);\n",
    "thinkplot.Pdf(mixture)"
   ]
  },
  {
   "cell_type": "code",
   "execution_count": 7,
   "metadata": {},
   "outputs": [
    {
     "data": {
      "text/plain": [
       "0.7793864330019922"
      ]
     },
     "execution_count": 7,
     "metadata": {},
     "output_type": "execute_result"
    }
   ],
   "source": [
    "mixture.Mean()"
   ]
  },
  {
   "cell_type": "code",
   "execution_count": null,
   "metadata": {},
   "outputs": [],
   "source": []
  }
 ],
 "metadata": {
  "kernelspec": {
   "display_name": "Python 3",
   "language": "python",
   "name": "python3"
  },
  "language_info": {
   "codemirror_mode": {
    "name": "ipython",
    "version": 3
   },
   "file_extension": ".py",
   "mimetype": "text/x-python",
   "name": "python",
   "nbconvert_exporter": "python",
   "pygments_lexer": "ipython3",
   "version": "3.6.5"
  }
 },
 "nbformat": 4,
 "nbformat_minor": 1
}
