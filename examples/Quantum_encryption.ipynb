{
 "cells": [
  {
   "cell_type": "markdown",
   "metadata": {},
   "source": [
    "# The Quantum Encryption Problem\n",
    "\n",
    "Alice and Bob want to use entangled [Bell Pairs](https://en.wikipedia.org/wiki/Bell_state) to create a shared secret. If you're a bit rusty on your quantum mechanics, here's a brief refresher on entaglement.\n",
    "\n",
    "\n",
    "Each of the particles in a Bell pair will be observed to be either spin 'up' or spin 'down' at random, but when their spin is observed along this same axis they will never match. If their spin is observed along different axes it will be entirely uncorrelated.\n",
    "\n",
    "Alice sends one particle from each of her great supply of Bell pairs to Bob. They each chose to observe their particles' spins along the X or Y axes at random, and later threw out any pairs for which they measured along different axes. They will use the results of these experiments (up/down or down/up) to create a shared secret, which they will use for [one time pad encryption](https://en.wikipedia.org/wiki/One-time_pad) in the rest of their communication.\n",
    "\n",
    "Eve wants to eavesdrop on Alice and Bob, and so may intercept the particles en route to Bob. If she does, she will destroy the entanglement, making the particles’ spins uncorrelated even when Alice and Bob choose the same axis.\n",
    "\n",
    "Unfortunately Alice and Bob do not have a very good way of sending coherent Bell pairs to each other, so the noise of their channel will destroy the entanglement 50% of the time even if Eve isn’t watching.\n",
    "\n",
    "To see if Eve is listening in, Alice and Bob share a small portion of their results (after throwing away the ones where they picked different axes), to see how well they match. \n",
    "\n",
    "Alice tells Bob that she observed the following pattern: UDUUUUUUDDDUDDUUUDDD\n",
    "\n",
    "whereas bob received: DDUUUDDDDDUDUDDUDUDU\n",
    "\n",
    "What is the chance that Eve intercepted their communication?"
   ]
  },
  {
   "cell_type": "code",
   "execution_count": 1,
   "metadata": {},
   "outputs": [],
   "source": [
    "# Configure Jupyter so figures appear in the notebook\n",
    "%matplotlib inline\n",
    "\n",
    "# Configure Jupyter to display the assigned value after an assignment\n",
    "%config InteractiveShell.ast_node_interactivity='last_expr_or_assign'\n",
    "\n",
    "# import classes from thinkbayes2\n",
    "from thinkbayes2 import Pmf, Suite\n",
    "\n",
    "import thinkplot\n",
    "import random\n",
    "\n",
    "decoherenceChance = 0.5"
   ]
  },
  {
   "cell_type": "code",
   "execution_count": 2,
   "metadata": {},
   "outputs": [],
   "source": [
    "def generate(length, listening):\n",
    "    \"\"\"generates a test string for alice and bob\"\"\"\n",
    "    choices = ['U','D']\n",
    "    coherentChoices = [('U','D'),('D','U')]\n",
    "    if(listening):\n",
    "        return[(random.choice(choices),random.choice(choices)) for x in range(length)]\n",
    "    else:\n",
    "        res = []\n",
    "        for i in range(length):\n",
    "            if random.random() < decoherenceChance: #chance of decoherence\n",
    "                res.append((random.choice(choices),random.choice(choices)))\n",
    "            else:\n",
    "                res.append(random.choice(coherentChoices))\n",
    "        return res"
   ]
  },
  {
   "cell_type": "code",
   "execution_count": 3,
   "metadata": {},
   "outputs": [],
   "source": [
    "class Qantum(Suite):\n",
    "    \n",
    "    def Likelihood(self, data, hypo):\n",
    "        \"\"\"Computes the likelihood of the data under the hypothesis.\n",
    "        \n",
    "        data: tuple of spins, the first being Alice's and the second being Bob's. (U,U), (U,D), (D,U), or (D,D)\n",
    "        hypo: True or False, whether Eve is listening\n",
    "        \"\"\"\n",
    "        if(hypo):\n",
    "            #if Eve is listening, there is an equal chance of all results\n",
    "            return 0.25\n",
    "        else:\n",
    "            match = data[0]==data[1]\n",
    "            if(match):\n",
    "                #this can happen if the particles decohere and they match (50% chance)\n",
    "                #since there are two ways to match, we also multiply by 0.5 again\n",
    "                return decoherenceChance*0.5*0.5\n",
    "            else:\n",
    "                #this can happen if the particles don't decohere\n",
    "                #or if they and it happens that they don't match (50% chance)\n",
    "                #again, we multiply everything by 0.5 since there are two ways of\n",
    "                #not matching\n",
    "                return ((1-decoherenceChance)+(decoherenceChance)*0.5)*0.5\n",
    "                "
   ]
  },
  {
   "cell_type": "code",
   "execution_count": 4,
   "metadata": {},
   "outputs": [
    {
     "name": "stderr",
     "output_type": "stream",
     "text": [
      "No handles with labels found to put in legend.\n"
     ]
    },
    {
     "data": {
      "image/png": "[encoded data removed]",
      "text/plain": [
       "<Figure size 432x288 with 1 Axes>"
      ]
     },
     "metadata": {},
     "output_type": "display_data"
    }
   ],
   "source": [
    "prior = Qantum([False,True])\n",
    "thinkplot.Hist(prior)\n",
    "thinkplot.Config(xlabel='Eve not listening or eve listening', ylabel='PMF')"
   ]
  },
  {
   "cell_type": "code",
   "execution_count": 5,
   "metadata": {},
   "outputs": [
    {
     "name": "stderr",
     "output_type": "stream",
     "text": [
      "No handles with labels found to put in legend.\n"
     ]
    },
    {
     "name": "stdout",
     "output_type": "stream",
     "text": [
      "Is Eve eavesdropping? here are the chances:\n",
      "False 0.14452449697035955\n",
      "True 0.8554755030296405\n"
     ]
    },
    {
     "data": {
      "image/png": "[encoded data removed]",
      "text/plain": [
       "<Figure size 432x288 with 1 Axes>"
      ]
     },
     "metadata": {},
     "output_type": "display_data"
    }
   ],
   "source": [
    "posterior = prior.Copy()\n",
    "A='UDUUUUUUDDDUDDUUUDDD'\n",
    "B='DDUUUDDDDDUDUDDUDUDU'\n",
    "results = zip(A,B)\n",
    "posterior.UpdateSet(results)\n",
    "thinkplot.Hist(posterior)\n",
    "thinkplot.Config(xlabel='Eve not listening or eve listening', ylabel='PMF')\n",
    "print(\"Is Eve eavesdropping? here are the chances:\")\n",
    "posterior.Print()"
   ]
  },
  {
   "cell_type": "markdown",
   "metadata": {},
   "source": [
    "Here's what it looks like when eve isn't listening:"
   ]
  },
  {
   "cell_type": "code",
   "execution_count": 6,
   "metadata": {},
   "outputs": [
    {
     "name": "stderr",
     "output_type": "stream",
     "text": [
      "No handles with labels found to put in legend.\n"
     ]
    },
    {
     "name": "stdout",
     "output_type": "stream",
     "text": [
      "Is Eve eavesdropping? here are the chances:\n",
      "False 0.991945724276506\n",
      "True 0.008054275723494026\n"
     ]
    },
    {
     "data": {
      "image/png": "[encoded data removed]",
      "text/plain": [
       "<Figure size 432x288 with 1 Axes>"
      ]
     },
     "metadata": {},
     "output_type": "display_data"
    }
   ],
   "source": [
    "posterior = prior.Copy()\n",
    "results = generate(20,False)\n",
    "posterior.UpdateSet(results)\n",
    "thinkplot.Hist(posterior)\n",
    "thinkplot.Config(xlabel='Eve not listening or eve listening', ylabel='PMF')\n",
    "print(\"Is Eve eavesdropping? here are the chances:\")\n",
    "posterior.Print()"
   ]
  }
 ],
 "metadata": {
  "kernelspec": {
   "display_name": "Python 3",
   "language": "python",
   "name": "python3"
  },
  "language_info": {
   "codemirror_mode": {
    "name": "ipython",
    "version": 3
   },
   "file_extension": ".py",
   "mimetype": "text/x-python",
   "name": "python",
   "nbconvert_exporter": "python",
   "pygments_lexer": "ipython3",
   "version": "3.6.5"
  }
 },
 "nbformat": 4,
 "nbformat_minor": 1
}
