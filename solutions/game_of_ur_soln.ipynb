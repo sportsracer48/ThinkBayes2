{
 "cells": [
  {
   "cell_type": "markdown",
   "metadata": {},
   "source": [
    "# Think Bayes\n",
    "\n",
    "This notebook presents code and exercises from Think Bayes, second edition.\n",
    "\n",
    "Copyright 2018 Allen B. Downey\n",
    "\n",
    "MIT License: https://opensource.org/licenses/MIT"
   ]
  },
  {
   "cell_type": "code",
   "execution_count": 1,
   "metadata": {},
   "outputs": [],
   "source": [
    "# Configure Jupyter so figures appear in the notebook\n",
    "%matplotlib inline\n",
    "\n",
    "# Configure Jupyter to display the assigned value after an assignment\n",
    "%config InteractiveShell.ast_node_interactivity='last_expr_or_assign'\n",
    "\n",
    "import math\n",
    "import numpy as np\n",
    "\n",
    "from thinkbayes2 import Pmf, Cdf, Suite\n",
    "import thinkplot"
   ]
  },
  {
   "cell_type": "markdown",
   "metadata": {},
   "source": [
    "### The Game of Ur problem\n",
    "\n",
    "In the Royal Game of Ur, players advance tokens along a track with 14 spaces.  To determine how many spaces to advance, a player rolls 4 dice with 4 sides.  Two corners on each die are marked; the other two are not.  The total number of marked corners -- which is 0, 1, 2, 3, or 4 -- is the number of spaces to advance.\n",
    "\n",
    "For example, if the total on your first roll is 2, you could advance a token to space 2.  If you roll a 3 on the next roll, you could advance the same token to space 5.\n",
    "\n",
    "Suppose you have a token on space 13.  How many rolls did it take to get there?\n",
    "\n",
    "Hint: you might want to start by computing the distribution of k given n, where k is the number of the space and n is the number of rolls.\n",
    "\n",
    "Then think about the prior distribution of n."
   ]
  },
  {
   "cell_type": "markdown",
   "metadata": {},
   "source": [
    "Here's a Pmf that represents one of the 4-sided dice."
   ]
  },
  {
   "cell_type": "code",
   "execution_count": 2,
   "metadata": {},
   "outputs": [
    {
     "data": {
      "text/plain": [
       "Pmf({0: 0.5, 1: 0.5})"
      ]
     },
     "execution_count": 2,
     "metadata": {},
     "output_type": "execute_result"
    }
   ],
   "source": [
    "die = Pmf([0, 1])"
   ]
  },
  {
   "cell_type": "markdown",
   "metadata": {},
   "source": [
    "And here's the outcome of a single roll."
   ]
  },
  {
   "cell_type": "code",
   "execution_count": 3,
   "metadata": {},
   "outputs": [
    {
     "data": {
      "text/plain": [
       "Pmf({0: 0.0625, 1: 0.25, 2: 0.375, 3: 0.25, 4: 0.0625})"
      ]
     },
     "execution_count": 3,
     "metadata": {},
     "output_type": "execute_result"
    }
   ],
   "source": [
    "roll = sum([die]*4)"
   ]
  },
  {
   "cell_type": "markdown",
   "metadata": {},
   "source": [
    "I'll start with a simulation, which helps in two ways: it makes modeling assumptions explicit and it provides an estimate of the answer.\n",
    "\n",
    "The following function simulates playing the game over and over; after every roll, it yields the number of rolls and the total so far.  When it gets past the 14th space, it starts over."
   ]
  },
  {
   "cell_type": "code",
   "execution_count": 4,
   "metadata": {},
   "outputs": [],
   "source": [
    "def roll_until(iters):\n",
    "    \"\"\"Generates observations of the game.\n",
    "    \n",
    "    iters: number of observations\n",
    "    \n",
    "    yields: number of rolls, total\n",
    "    \"\"\"\n",
    "    for i in range(iters):\n",
    "        total = 0\n",
    "        for n in range(1, 1000):\n",
    "            total += roll.Random()\n",
    "            if total > 14:\n",
    "                break\n",
    "            yield(n, total)"
   ]
  },
  {
   "cell_type": "markdown",
   "metadata": {},
   "source": [
    "Run the simulation many times and, every time the token is observed on space 13, record the number of rolls it took to get there."
   ]
  },
  {
   "cell_type": "code",
   "execution_count": 5,
   "metadata": {},
   "outputs": [],
   "source": [
    "pmf_sim = Pmf()\n",
    "for n, k in roll_until(1000000):\n",
    "    if k == 13:\n",
    "        pmf_sim[n] += 1"
   ]
  },
  {
   "cell_type": "markdown",
   "metadata": {},
   "source": [
    "Here's the distribution of the number of rolls:"
   ]
  },
  {
   "cell_type": "code",
   "execution_count": 6,
   "metadata": {},
   "outputs": [
    {
     "data": {
      "text/plain": [
       "500957"
      ]
     },
     "execution_count": 6,
     "metadata": {},
     "output_type": "execute_result"
    }
   ],
   "source": [
    "pmf_sim.Normalize()"
   ]
  },
  {
   "cell_type": "code",
   "execution_count": 7,
   "metadata": {},
   "outputs": [
    {
     "name": "stdout",
     "output_type": "stream",
     "text": [
      "4 0.016975508876011312\n",
      "5 0.14688885473204286\n",
      "6 0.2973069544891078\n",
      "7 0.280463193447741\n",
      "8 0.16114756356333976\n",
      "9 0.06730517788951945\n",
      "10 0.022137628578899983\n",
      "11 0.006052415676395379\n",
      "12 0.0013933331603311263\n",
      "13 0.00028146128310413865\n",
      "14 3.99235862559062e-05\n",
      "15 5.988537938385929e-06\n",
      "16 1.9961793127953097e-06\n"
     ]
    }
   ],
   "source": [
    "pmf_sim.Print()"
   ]
  },
  {
   "cell_type": "markdown",
   "metadata": {},
   "source": [
    "Now let's see if we can compute the likeihood function, which is the probability of being on space 13 after a hypothetical `n` rolls.\n",
    "\n",
    "`pmf_n` is the distribution of spaces after `n` rolls.\n",
    "\n",
    "`pmf_13` is the probability of being on space 13 after `n` rolls."
   ]
  },
  {
   "cell_type": "code",
   "execution_count": 8,
   "metadata": {},
   "outputs": [
    {
     "name": "stdout",
     "output_type": "stream",
     "text": [
      "4 0.008544921875\n",
      "5 0.0739288330078125\n",
      "6 0.14878177642822266\n",
      "7 0.13948291540145874\n",
      "8 0.08087921887636185\n",
      "9 0.033626414369791746\n",
      "10 0.010944152454612777\n",
      "11 0.002951056014353526\n",
      "12 0.0006854188303009323\n",
      "13 0.00014100133496341982\n",
      "14 2.6227807875534026e-05\n"
     ]
    },
    {
     "data": {
      "text/plain": [
       "0.4999919364007537"
      ]
     },
     "execution_count": 8,
     "metadata": {},
     "output_type": "execute_result"
    }
   ],
   "source": [
    "pmf_13 = Pmf()\n",
    "for n in range(4, 15):\n",
    "    pmf_n = sum([roll]*n)\n",
    "    pmf_13[n] = pmf_n[13]\n",
    "    \n",
    "pmf_13.Print()\n",
    "pmf_13.Total()"
   ]
  },
  {
   "cell_type": "markdown",
   "metadata": {},
   "source": [
    "The total probability of the data is very close to 1/2, but it's not obvious (to me) why.\n",
    "\n",
    "Nevertheless, `pmf_13` is the probability of the data for each hypothetical values of `n`, so it is the likelihood function.\n",
    "\n",
    "Now we need to think about a prior distribution on the number of rolls.  This is not easy to reason about, so let's start by assuming that it is uniform, and see where that gets us.\n",
    "\n",
    "If the prior is uniform, the posterior equals the likelihood function, normalized."
   ]
  },
  {
   "cell_type": "code",
   "execution_count": 9,
   "metadata": {},
   "outputs": [
    {
     "name": "stdout",
     "output_type": "stream",
     "text": [
      "4 0.017090119365747274\n",
      "5 0.1478600505840099\n",
      "6 0.2975683518003199\n",
      "7 0.2789703298127999\n",
      "8 0.16176104650522904\n",
      "9 0.0672539133567936\n",
      "10 0.021888657911956433\n",
      "11 0.005902207214774348\n",
      "12 0.0013708597687294604\n",
      "13 0.00028200721791321923\n",
      "14 5.245646172683854e-05\n"
     ]
    }
   ],
   "source": [
    "posterior = pmf_13.Copy()\n",
    "posterior.Normalize()\n",
    "posterior.Print()"
   ]
  },
  {
   "cell_type": "markdown",
   "metadata": {},
   "source": [
    "That sure looks similar to what we got by simulation.  Let's compare them."
   ]
  },
  {
   "cell_type": "code",
   "execution_count": 10,
   "metadata": {},
   "outputs": [
    {
     "data": {
      "image/png": "[encoded data removed]",
      "text/plain": [
       "<Figure size 432x288 with 1 Axes>"
      ]
     },
     "metadata": {},
     "output_type": "display_data"
    }
   ],
   "source": [
    "thinkplot.Hist(pmf_sim)\n",
    "thinkplot.Pmf(posterior, color='orange')\n",
    "thinkplot.decorate(xlabel='Number of rolls (n)',\n",
    "                   ylabel='PMF')"
   ]
  },
  {
   "cell_type": "markdown",
   "metadata": {},
   "source": [
    "Since the posterior distribution based on a uniform prior matches the simulation, it seems like the uniform prior must be correct.  But it is not obvious (to me) why."
   ]
  },
  {
   "cell_type": "code",
   "execution_count": null,
   "metadata": {},
   "outputs": [],
   "source": []
  }
 ],
 "metadata": {
  "kernelspec": {
   "display_name": "Python 3",
   "language": "python",
   "name": "python3"
  },
  "language_info": {
   "codemirror_mode": {
    "name": "ipython",
    "version": 3
   },
   "file_extension": ".py",
   "mimetype": "text/x-python",
   "name": "python",
   "nbconvert_exporter": "python",
   "pygments_lexer": "ipython3",
   "version": "3.6.5"
  }
 },
 "nbformat": 4,
 "nbformat_minor": 2
}
